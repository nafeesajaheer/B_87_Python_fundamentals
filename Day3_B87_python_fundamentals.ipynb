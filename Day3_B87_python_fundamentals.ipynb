{
 "cells": [
  {
   "cell_type": "code",
   "execution_count": null,
   "id": "2bdfafc9-4f7d-47e8-a16d-a4061e0d32a9",
   "metadata": {},
   "outputs": [],
   "source": [
    "Introduction to f strings"
   ]
  },
  {
   "cell_type": "code",
   "execution_count": null,
   "id": "9d35d231-0041-4a7b-901c-2d843657ee27",
   "metadata": {},
   "outputs": [],
   "source": [
    "firstname = 'dinesh'\n",
    "lastname = 'kumar'"
   ]
  },
  {
   "cell_type": "code",
   "execution_count": null,
   "id": "cd44f2e2-57b7-4ea3-b4b9-dee128c7410e",
   "metadata": {},
   "outputs": [],
   "source": [
    "# req : I want to get the fullname...? "
   ]
  },
  {
   "cell_type": "code",
   "execution_count": null,
   "id": "da59b4d8-50c0-4f82-82cd-9c1e9c09fab8",
   "metadata": {},
   "outputs": [],
   "source": [
    "# general system of f strings"
   ]
  },
  {
   "cell_type": "code",
   "execution_count": null,
   "id": "38a146a4-cb50-4b3b-bfe0-de57806fcac7",
   "metadata": {},
   "outputs": [],
   "source": [
    "f\"customer message {placeholder_1} {placeholder_2}...{placeholder_n}\""
   ]
  },
  {
   "cell_type": "code",
   "execution_count": 6,
   "id": "def00687-4844-434c-98c2-3a7b487b01d1",
   "metadata": {},
   "outputs": [
    {
     "name": "stdout",
     "output_type": "stream",
     "text": [
      "dinesh kumar\n"
     ]
    }
   ],
   "source": [
    "firstname = 'dinesh'\n",
    "lastname = 'kumar'\n",
    "fullname = f\"{firstname} {lastname}\"\n",
    "print(fullname)"
   ]
  },
  {
   "cell_type": "code",
   "execution_count": 7,
   "id": "d569d521-6eab-4f67-8c3a-6615e51aa393",
   "metadata": {},
   "outputs": [
    {
     "name": "stdout",
     "output_type": "stream",
     "text": [
      "Dinesh Kumar\n"
     ]
    }
   ],
   "source": [
    "print(fullname.title())"
   ]
  },
  {
   "cell_type": "code",
   "execution_count": 10,
   "id": "5bae9485-baca-47ae-948a-9252888397f5",
   "metadata": {},
   "outputs": [
    {
     "name": "stdout",
     "output_type": "stream",
     "text": [
      "keep up the good work, Dinesh Kumar\n"
     ]
    }
   ],
   "source": [
    "message = f\"keep up the good work, {fullname.title()}\"\n",
    "print(message)"
   ]
  },
  {
   "cell_type": "code",
   "execution_count": null,
   "id": "7561296b-8c91-46ff-9974-22420cc11dbb",
   "metadata": {},
   "outputs": [],
   "source": []
  },
  {
   "cell_type": "code",
   "execution_count": null,
   "id": "ea26242e-2d59-4f2f-912f-65ca17473abe",
   "metadata": {},
   "outputs": [],
   "source": [
    "Adding whitespaces to strings:"
   ]
  },
  {
   "cell_type": "code",
   "execution_count": 11,
   "id": "b9b12c7f-01df-4df8-bb0f-8e05d5339ab9",
   "metadata": {},
   "outputs": [
    {
     "name": "stdout",
     "output_type": "stream",
     "text": [
      "favourite_language:pythonCjavaC++swiftjavascript\n"
     ]
    }
   ],
   "source": [
    "print(\"favourite_language:pythonCjavaC++swiftjavascript\")"
   ]
  },
  {
   "cell_type": "code",
   "execution_count": 12,
   "id": "743e4a9f-d098-4f12-936c-975d7e30fed7",
   "metadata": {},
   "outputs": [
    {
     "name": "stdout",
     "output_type": "stream",
     "text": [
      "favourite_language:\n",
      "python\n",
      "C\n",
      "java\n",
      "C++\n",
      "swift\n",
      "javascript\n"
     ]
    }
   ],
   "source": [
    "print(\"favourite_language:\\npython\\nC\\njava\\nC++\\nswift\\njavascript\")"
   ]
  },
  {
   "cell_type": "code",
   "execution_count": 13,
   "id": "5c2502ff-a3d7-4d61-86c6-6c7be1f3c21f",
   "metadata": {},
   "outputs": [
    {
     "name": "stdout",
     "output_type": "stream",
     "text": [
      "favourite_language:\n",
      "\tpython\n",
      "\tC\n",
      "\tjava\n",
      "\tC++\n",
      "\tswift\n",
      "\tjavascript\n"
     ]
    }
   ],
   "source": [
    "print(\"favourite_language:\\n\\tpython\\n\\tC\\n\\tjava\\n\\tC++\\n\\tswift\\n\\tjavascript\")"
   ]
  },
  {
   "cell_type": "code",
   "execution_count": null,
   "id": "a68520d1-418a-4690-a333-04d2adcef0fa",
   "metadata": {},
   "outputs": [],
   "source": [
    "Removing whitespaces from the strings:"
   ]
  },
  {
   "cell_type": "code",
   "execution_count": 17,
   "id": "f6a602ca-8f98-47d3-b1d0-281d45407b77",
   "metadata": {},
   "outputs": [
    {
     "name": "stdout",
     "output_type": "stream",
     "text": [
      " python\n"
     ]
    }
   ],
   "source": [
    "name = \" python\"\n",
    "print(name)"
   ]
  },
  {
   "cell_type": "code",
   "execution_count": 18,
   "id": "a3d3e8d0-e8dc-4221-86f6-00cbadafe1c1",
   "metadata": {},
   "outputs": [
    {
     "name": "stdout",
     "output_type": "stream",
     "text": [
      "python\n"
     ]
    }
   ],
   "source": [
    "name2 =\"python\"\n",
    "print(name2)"
   ]
  },
  {
   "cell_type": "code",
   "execution_count": 19,
   "id": "d90255a4-2287-4ac4-8fd0-8ddd1cef275d",
   "metadata": {},
   "outputs": [
    {
     "name": "stdout",
     "output_type": "stream",
     "text": [
      "python \n"
     ]
    }
   ],
   "source": [
    "name3 =\"python \"\n",
    "print(name3)"
   ]
  },
  {
   "cell_type": "code",
   "execution_count": 20,
   "id": "b8fa76e8-2ddf-4eea-a05f-3c606a0e82f0",
   "metadata": {},
   "outputs": [
    {
     "data": {
      "text/plain": [
       "'python'"
      ]
     },
     "execution_count": 20,
     "metadata": {},
     "output_type": "execute_result"
    }
   ],
   "source": [
    "name.lstrip()"
   ]
  },
  {
   "cell_type": "code",
   "execution_count": 23,
   "id": "d74f531c-b605-4948-8de2-a1c7fe7d0e20",
   "metadata": {},
   "outputs": [
    {
     "data": {
      "text/plain": [
       "'python'"
      ]
     },
     "execution_count": 23,
     "metadata": {},
     "output_type": "execute_result"
    }
   ],
   "source": [
    "name3.rstrip()"
   ]
  },
  {
   "cell_type": "code",
   "execution_count": 24,
   "id": "bcc8bb5d-132e-436d-b58a-ecc7d6a272ea",
   "metadata": {},
   "outputs": [
    {
     "name": "stdout",
     "output_type": "stream",
     "text": [
      " python \n"
     ]
    }
   ],
   "source": [
    "name4 =' python '\n",
    "print(name4)"
   ]
  },
  {
   "cell_type": "code",
   "execution_count": 25,
   "id": "590d89c8-e8f5-46e8-a8ec-fb8b01375a1a",
   "metadata": {},
   "outputs": [
    {
     "data": {
      "text/plain": [
       "'python'"
      ]
     },
     "execution_count": 25,
     "metadata": {},
     "output_type": "execute_result"
    }
   ],
   "source": [
    "name4.strip()"
   ]
  },
  {
   "cell_type": "code",
   "execution_count": null,
   "id": "83ef9b10-acde-4d30-8354-99412c7026a1",
   "metadata": {},
   "outputs": [],
   "source": []
  },
  {
   "cell_type": "code",
   "execution_count": null,
   "id": "7f6ae77f-c700-4d37-8041-851e458334cc",
   "metadata": {},
   "outputs": [],
   "source": [
    "# zen of python : Guiding principles"
   ]
  },
  {
   "cell_type": "code",
   "execution_count": 26,
   "id": "d35ccbe1-d706-4cfe-a3ce-a8cd7bc2d45c",
   "metadata": {},
   "outputs": [
    {
     "name": "stdout",
     "output_type": "stream",
     "text": [
      "The Zen of Python, by Tim Peters\n",
      "\n",
      "Beautiful is better than ugly.\n",
      "Explicit is better than implicit.\n",
      "Simple is better than complex.\n",
      "Complex is better than complicated.\n",
      "Flat is better than nested.\n",
      "Sparse is better than dense.\n",
      "Readability counts.\n",
      "Special cases aren't special enough to break the rules.\n",
      "Although practicality beats purity.\n",
      "Errors should never pass silently.\n",
      "Unless explicitly silenced.\n",
      "In the face of ambiguity, refuse the temptation to guess.\n",
      "There should be one-- and preferably only one --obvious way to do it.\n",
      "Although that way may not be obvious at first unless you're Dutch.\n",
      "Now is better than never.\n",
      "Although never is often better than *right* now.\n",
      "If the implementation is hard to explain, it's a bad idea.\n",
      "If the implementation is easy to explain, it may be a good idea.\n",
      "Namespaces are one honking great idea -- let's do more of those!\n"
     ]
    }
   ],
   "source": [
    "import this"
   ]
  },
  {
   "cell_type": "code",
   "execution_count": null,
   "id": "f6bc1914-b5c8-4e0d-adf9-242ba286af68",
   "metadata": {},
   "outputs": [],
   "source": []
  }
 ],
 "metadata": {
  "kernelspec": {
   "display_name": "anaconda-2024.02-py310",
   "language": "python",
   "name": "conda-env-anaconda-2024.02-py310-py"
  },
  "language_info": {
   "codemirror_mode": {
    "name": "ipython",
    "version": 3
   },
   "file_extension": ".py",
   "mimetype": "text/x-python",
   "name": "python",
   "nbconvert_exporter": "python",
   "pygments_lexer": "ipython3",
   "version": "3.10.14"
  }
 },
 "nbformat": 4,
 "nbformat_minor": 5
}
