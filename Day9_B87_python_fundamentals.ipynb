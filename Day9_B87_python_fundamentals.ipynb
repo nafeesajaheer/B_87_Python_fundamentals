{
 "cells": [
  {
   "cell_type": "code",
   "execution_count": null,
   "id": "3aa0aa4c-734f-487e-92c8-023910cf1efd",
   "metadata": {},
   "outputs": [],
   "source": [
    "Introduction to python functions:"
   ]
  },
  {
   "cell_type": "code",
   "execution_count": null,
   "id": "b9b53979-14a0-4312-b570-5e95e47f0138",
   "metadata": {},
   "outputs": [],
   "source": [
    "Ho to define a function:def\n",
    "for giving a function name use small case letters "
   ]
  },
  {
   "cell_type": "code",
   "execution_count": 1,
   "id": "f5c4258b-1131-4bd1-bbdd-e83b75688ca2",
   "metadata": {},
   "outputs": [],
   "source": [
    "def greet():    # this part is called as defining the function\n",
    "    \"\"\"this function will greet the user\"\"\"     # this is doc string\n",
    "    print(\"Hello\")"
   ]
  },
  {
   "cell_type": "code",
   "execution_count": 2,
   "id": "35d255df-6f5c-42f9-aef6-d1667916fa4e",
   "metadata": {},
   "outputs": [
    {
     "name": "stdout",
     "output_type": "stream",
     "text": [
      "Hello\n"
     ]
    }
   ],
   "source": [
    "greet()     # function call"
   ]
  },
  {
   "cell_type": "code",
   "execution_count": 3,
   "id": "798fa86b-f563-487f-8904-f31da0f39d1f",
   "metadata": {},
   "outputs": [
    {
     "name": "stdout",
     "output_type": "stream",
     "text": [
      "Hello\n"
     ]
    }
   ],
   "source": [
    "greet()"
   ]
  },
  {
   "cell_type": "code",
   "execution_count": 12,
   "id": "40e2064c-02fe-4894-b286-b67455bed067",
   "metadata": {},
   "outputs": [
    {
     "name": "stdout",
     "output_type": "stream",
     "text": [
      "Hello\n"
     ]
    }
   ],
   "source": [
    "def greet_user():\n",
    "    \"\"\" display a simple greeting\"\"\"\n",
    "    print(\"Hello\")\n",
    "greet_user()"
   ]
  },
  {
   "cell_type": "code",
   "execution_count": null,
   "id": "7ca78136-f8a2-43c1-a149-3e2f79a3be69",
   "metadata": {},
   "outputs": [],
   "source": []
  },
  {
   "cell_type": "code",
   "execution_count": 14,
   "id": "1d2014f6-ad68-458b-ada0-2d2d7d0f726c",
   "metadata": {},
   "outputs": [
    {
     "name": "stdout",
     "output_type": "stream",
     "text": [
      "Hello,Anil\n"
     ]
    }
   ],
   "source": [
    "def greet_user(username):     # parameter declaration\n",
    "    \"\"\"Display a simple greeting\"\"\"\n",
    "    print(f\"Hello,{username.title()}\")\n",
    "greet_user('anil')      # arguments passing"
   ]
  },
  {
   "cell_type": "code",
   "execution_count": 16,
   "id": "9e144764-73c8-4383-a1ac-1cc330709d36",
   "metadata": {},
   "outputs": [
    {
     "name": "stdout",
     "output_type": "stream",
     "text": [
      "Hello,Arshad\n"
     ]
    }
   ],
   "source": [
    "greet_user('arshad')"
   ]
  },
  {
   "cell_type": "code",
   "execution_count": null,
   "id": "e9a3a0e1-75ab-438b-a2bf-0e886ab377b3",
   "metadata": {},
   "outputs": [],
   "source": []
  },
  {
   "cell_type": "code",
   "execution_count": null,
   "id": "dd47eeb4-8922-4e85-808c-542ff53443f8",
   "metadata": {},
   "outputs": [],
   "source": [
    "Types of arguments:\n",
    "1. Positional arguments\n",
    "2. Keyword arguments\n",
    "3. Arbitrary arguments"
   ]
  },
  {
   "cell_type": "code",
   "execution_count": null,
   "id": "b7790ef5-9b6a-4d4d-8f25-59c6d7b2b41f",
   "metadata": {},
   "outputs": [],
   "source": [
    "# defining the function\n",
    "\n",
    "# req: define a function with name describe_pet which takes two parameters: pet_name and animal_name"
   ]
  },
  {
   "cell_type": "code",
   "execution_count": 22,
   "id": "a02a3870-2005-4635-aa48-ca8e90ab6eb9",
   "metadata": {},
   "outputs": [
    {
     "name": "stdout",
     "output_type": "stream",
     "text": [
      "\n",
      " I have a dog\n",
      "my dog's name is alexa\n"
     ]
    }
   ],
   "source": [
    "def describe_pet(animal_type,pet_name):\n",
    "    \"\"\"describe the information about the pet\"\"\"\n",
    "    print(f\"\\n I have a {animal_type}\")\n",
    "    print(f\"my {animal_type}'s name is {pet_name}\")\n",
    "describe_pet('dog','alexa')"
   ]
  },
  {
   "cell_type": "code",
   "execution_count": 23,
   "id": "7734e8f7-738b-4122-a2f1-bd6a2c30a047",
   "metadata": {},
   "outputs": [
    {
     "name": "stdout",
     "output_type": "stream",
     "text": [
      "\n",
      " I have a cat\n",
      "my cat's name is rex\n"
     ]
    }
   ],
   "source": [
    "describe_pet('cat','rex')"
   ]
  },
  {
   "cell_type": "code",
   "execution_count": 24,
   "id": "b2c3e381-be63-429e-acad-bea44302929f",
   "metadata": {},
   "outputs": [
    {
     "name": "stdout",
     "output_type": "stream",
     "text": [
      "\n",
      " I have a parrot\n",
      "my parrot's name is sweety\n"
     ]
    }
   ],
   "source": [
    "describe_pet('parrot','sweety')"
   ]
  },
  {
   "cell_type": "code",
   "execution_count": 25,
   "id": "3dbe478c-4489-4fed-97d6-7a6b40534289",
   "metadata": {},
   "outputs": [
    {
     "name": "stdout",
     "output_type": "stream",
     "text": [
      "\n",
      " I have a parrot\n",
      "my parrot's name is sweety\n"
     ]
    }
   ],
   "source": [
    "describe_pet(pet_name='sweety',animal_type='parrot')"
   ]
  },
  {
   "cell_type": "code",
   "execution_count": null,
   "id": "e7bf03f2-d054-4e9b-8ec4-9fc173981e11",
   "metadata": {},
   "outputs": [],
   "source": []
  }
 ],
 "metadata": {
  "kernelspec": {
   "display_name": "anaconda-2024.02-py310",
   "language": "python",
   "name": "conda-env-anaconda-2024.02-py310-py"
  },
  "language_info": {
   "codemirror_mode": {
    "name": "ipython",
    "version": 3
   },
   "file_extension": ".py",
   "mimetype": "text/x-python",
   "name": "python",
   "nbconvert_exporter": "python",
   "pygments_lexer": "ipython3",
   "version": "3.10.14"
  }
 },
 "nbformat": 4,
 "nbformat_minor": 5
}
