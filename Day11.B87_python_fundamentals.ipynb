{
 "cells": [
  {
   "cell_type": "code",
   "execution_count": null,
   "id": "1174144e-1b00-47f3-b1d0-1a1706330958",
   "metadata": {},
   "outputs": [],
   "source": [
    "Introduction to python classes:"
   ]
  },
  {
   "cell_type": "code",
   "execution_count": null,
   "id": "6735b503-4977-4ccd-8983-e893e0df0774",
   "metadata": {},
   "outputs": [],
   "source": [
    "class====> class is a high level blue print of the program.\n",
    "\n",
    "methods===>A function written inside the class is called as a methods.\n",
    "\n",
    "attributes===> A varivable ritten inside a class is called as a attributes.\n",
    "\n",
    "objects/instances===> is an approach by using which we can be able to access the class methods\n",
    "\n",
    "self===> self is temp placeholder for an object\n",
    "\n",
    "init===> is a special method/magical method"
   ]
  },
  {
   "cell_type": "code",
   "execution_count": null,
   "id": "6f2d8482-e972-41a1-b6f9-7c75b6fe25db",
   "metadata": {},
   "outputs": [],
   "source": [
    "What ae OOPS: Object Oriented Programming"
   ]
  },
  {
   "cell_type": "code",
   "execution_count": null,
   "id": "133201dd-23ca-452e-9caf-1e158244b54e",
   "metadata": {},
   "outputs": [],
   "source": [
    "# class example: req: design a dog class with its functionalities"
   ]
  },
  {
   "cell_type": "code",
   "execution_count": 7,
   "id": "dfcbe9e5-c99b-4d2b-bfcf-5f967fbb74f5",
   "metadata": {},
   "outputs": [
    {
     "name": "stdout",
     "output_type": "stream",
     "text": [
      "bruno is now sitting\n"
     ]
    }
   ],
   "source": [
    "class Dog:\n",
    "    \"\"\" A simple attempt to model the dog\"\"\"\n",
    "    def __init__(self,name,age):\n",
    "       \"\"\"initialize the name and age attributes\"\"\"\n",
    "       self.name = name\n",
    "       self.age = age\n",
    "    def sit(self):\n",
    "        \"\"\"simulate a dog sitting in response to a command\"\"\"\n",
    "        print(f\"{self.name} is now sitting\")\n",
    "\n",
    "    def roll_over(self):\n",
    "        \"\"\"simulate rolling over in response ti the command\"\"\"\n",
    "        print(f\"{self.name} rolled over\")\n",
    "my_dog = Dog('bruno',6)\n",
    "my_dog.sit()    "
   ]
  },
  {
   "cell_type": "code",
   "execution_count": 10,
   "id": "2a6b809b-a34e-4aa6-b495-5556899d92bb",
   "metadata": {},
   "outputs": [
    {
     "name": "stdout",
     "output_type": "stream",
     "text": [
      "bruno rolled over\n"
     ]
    }
   ],
   "source": [
    "my_dog.roll_over()"
   ]
  },
  {
   "cell_type": "code",
   "execution_count": 13,
   "id": "185f0329-5609-4b3a-bcf5-6e29679c8937",
   "metadata": {},
   "outputs": [],
   "source": [
    "test = Dog('rex',3)"
   ]
  },
  {
   "cell_type": "code",
   "execution_count": 14,
   "id": "1e3cabf6-d6a1-4b10-aab7-6522bd7e43d0",
   "metadata": {},
   "outputs": [
    {
     "name": "stdout",
     "output_type": "stream",
     "text": [
      "rex is now sitting\n"
     ]
    }
   ],
   "source": [
    "test.sit()"
   ]
  },
  {
   "cell_type": "code",
   "execution_count": 15,
   "id": "9adc2e6b-8bba-4c63-89ea-48ca4364ecf5",
   "metadata": {},
   "outputs": [
    {
     "name": "stdout",
     "output_type": "stream",
     "text": [
      "rex rolled over\n"
     ]
    }
   ],
   "source": [
    "test.roll_over()"
   ]
  },
  {
   "cell_type": "code",
   "execution_count": null,
   "id": "30f02f9d-58d2-4488-8f4a-4e570ae3f3da",
   "metadata": {},
   "outputs": [],
   "source": []
  },
  {
   "cell_type": "code",
   "execution_count": 27,
   "id": "8bd7c1b6-ee0a-432c-93dd-f5f48212f058",
   "metadata": {},
   "outputs": [
    {
     "name": "stdout",
     "output_type": "stream",
     "text": [
      "Audi A4 2020\n"
     ]
    }
   ],
   "source": [
    "class Car:\n",
    "    \"\"\"A simple attempt to represent a car\"\"\"\n",
    "    def __init__(self,make,model,year):\n",
    "       \"\"\"initialize the attributes ti describe the car\"\"\"\n",
    "       self.make = make\n",
    "       self.model = model\n",
    "       self.year = year\n",
    "    def get_descriptive_name(self):\n",
    "       \"\"\"return a neately formatted descriptive name\"\"\"\n",
    "       long_name = f\"{self.make} {self.model} {self.year}\"\n",
    "       return long_name.title()\n",
    "my_new_car = Car('audi','a4',2020)\n",
    "print(my_new_car.get_descriptive_name())"
   ]
  },
  {
   "cell_type": "code",
   "execution_count": 28,
   "id": "355b8630-f5cb-424d-8aaa-3d4ade9f0438",
   "metadata": {},
   "outputs": [
    {
     "name": "stdout",
     "output_type": "stream",
     "text": [
      "Audi A4 2020\n"
     ]
    }
   ],
   "source": [
    "my_new_car = Car('audi','a4',2020)\n",
    "print(my_new_car.get_descriptive_name())"
   ]
  },
  {
   "cell_type": "code",
   "execution_count": 29,
   "id": "4dd66ae8-3221-4976-a86b-b4b02e445536",
   "metadata": {},
   "outputs": [
    {
     "name": "stdout",
     "output_type": "stream",
     "text": [
      "Audi A4 2020\n"
     ]
    }
   ],
   "source": [
    "print(my_new_car.get_descriptive_name())"
   ]
  },
  {
   "cell_type": "code",
   "execution_count": null,
   "id": "4a2c870b-cda1-49de-ade3-4d7dbcb129ba",
   "metadata": {},
   "outputs": [],
   "source": []
  }
 ],
 "metadata": {
  "kernelspec": {
   "display_name": "anaconda-panel-2023.05-py310",
   "language": "python",
   "name": "conda-env-anaconda-panel-2023.05-py310-py"
  },
  "language_info": {
   "codemirror_mode": {
    "name": "ipython",
    "version": 3
   },
   "file_extension": ".py",
   "mimetype": "text/x-python",
   "name": "python",
   "nbconvert_exporter": "python",
   "pygments_lexer": "ipython3",
   "version": "3.11.5"
  }
 },
 "nbformat": 4,
 "nbformat_minor": 5
}
