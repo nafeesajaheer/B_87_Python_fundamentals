{
 "cells": [
  {
   "cell_type": "code",
   "execution_count": null,
   "id": "6820a068-db7b-4e62-aeca-48846f9f03d7",
   "metadata": {},
   "outputs": [],
   "source": [
    "Introduction to numbers:"
   ]
  },
  {
   "cell_type": "code",
   "execution_count": 1,
   "id": "08ef4061-b22b-4a2c-a7e0-8bdff5c87a81",
   "metadata": {},
   "outputs": [
    {
     "name": "stdout",
     "output_type": "stream",
     "text": [
      "123\n"
     ]
    }
   ],
   "source": [
    "numbers=123\n",
    "print(numbers)"
   ]
  },
  {
   "cell_type": "code",
   "execution_count": 2,
   "id": "964daea4-8a50-4fbf-8cf6-552a8bf54f6c",
   "metadata": {},
   "outputs": [
    {
     "data": {
      "text/plain": [
       "int"
      ]
     },
     "execution_count": 2,
     "metadata": {},
     "output_type": "execute_result"
    }
   ],
   "source": [
    "type(numbers)"
   ]
  },
  {
   "cell_type": "code",
   "execution_count": 3,
   "id": "e79e418e-1c32-47e2-bc09-b7da50236721",
   "metadata": {},
   "outputs": [
    {
     "name": "stdout",
     "output_type": "stream",
     "text": [
      "0.1\n"
     ]
    }
   ],
   "source": [
    "num2=0.1\n",
    "print(num2)"
   ]
  },
  {
   "cell_type": "code",
   "execution_count": 4,
   "id": "8f38eca8-aa31-43b7-9d44-ebf8715f56a4",
   "metadata": {},
   "outputs": [
    {
     "data": {
      "text/plain": [
       "float"
      ]
     },
     "execution_count": 4,
     "metadata": {},
     "output_type": "execute_result"
    }
   ],
   "source": [
    "type(num2)"
   ]
  },
  {
   "cell_type": "code",
   "execution_count": null,
   "id": "b6734325-487b-4cc5-b1ac-a4df2dd3e358",
   "metadata": {},
   "outputs": [],
   "source": [
    "Introduction to list datatype:"
   ]
  },
  {
   "cell_type": "code",
   "execution_count": null,
   "id": "a7b0d1c1-7581-4a73-a313-d14d465707ce",
   "metadata": {},
   "outputs": [],
   "source": [
    "Defn: A list is a collection of items defined in a particular order\n",
    "\n",
    "Classification: It is classified as mutable datatype\n",
    "\n",
    "How to define the list of datatype:[] #square brackets."
   ]
  },
  {
   "cell_type": "code",
   "execution_count": 6,
   "id": "a34e26b1-590b-4955-b61d-cd7b282d1333",
   "metadata": {},
   "outputs": [
    {
     "name": "stdout",
     "output_type": "stream",
     "text": [
      "['arpita', 'ashwini', 'asma', 'bhuvan', 'david', 'karthik']\n"
     ]
    }
   ],
   "source": [
    "students=['arpita','ashwini','asma','bhuvan','david','karthik']\n",
    "print(students)"
   ]
  },
  {
   "cell_type": "code",
   "execution_count": 7,
   "id": "308b135a-849c-4821-a5c4-1467e80abd57",
   "metadata": {},
   "outputs": [
    {
     "data": {
      "text/plain": [
       "list"
      ]
     },
     "execution_count": 7,
     "metadata": {},
     "output_type": "execute_result"
    }
   ],
   "source": [
    "type(students)"
   ]
  },
  {
   "cell_type": "code",
   "execution_count": null,
   "id": "69cf3837-30aa-4188-af02-90e1d19b7f85",
   "metadata": {},
   "outputs": [],
   "source": []
  },
  {
   "cell_type": "code",
   "execution_count": null,
   "id": "3282d8d3-a13b-4f68-8d49-086ef033ee33",
   "metadata": {},
   "outputs": [],
   "source": [
    "Introduction to indexing: 0,1,2,3,4,5,6,..."
   ]
  },
  {
   "cell_type": "code",
   "execution_count": null,
   "id": "ce0ebec5-ca70-412d-91f5-e3181d24575c",
   "metadata": {},
   "outputs": [],
   "source": [
    "# req: I want to access ashwini name in the output...? "
   ]
  },
  {
   "cell_type": "code",
   "execution_count": 8,
   "id": "6ddda2b2-ad48-4154-b80c-43e575997538",
   "metadata": {},
   "outputs": [
    {
     "name": "stdout",
     "output_type": "stream",
     "text": [
      "ashwini\n"
     ]
    }
   ],
   "source": [
    "print(students[1])"
   ]
  },
  {
   "cell_type": "code",
   "execution_count": 9,
   "id": "c944d132-446a-4453-a4b7-e597533adb66",
   "metadata": {},
   "outputs": [
    {
     "name": "stdout",
     "output_type": "stream",
     "text": [
      "Ashwini\n"
     ]
    }
   ],
   "source": [
    "print(students[1].title())"
   ]
  },
  {
   "cell_type": "code",
   "execution_count": null,
   "id": "c2bc9003-900d-427c-bf66-5426e2b22af7",
   "metadata": {},
   "outputs": [],
   "source": [
    "# req: I want to access bhuvan name in the output...?"
   ]
  },
  {
   "cell_type": "code",
   "execution_count": 10,
   "id": "51ce0139-b636-4621-aa0e-362029950663",
   "metadata": {},
   "outputs": [
    {
     "name": "stdout",
     "output_type": "stream",
     "text": [
      "Bhuvan\n"
     ]
    }
   ],
   "source": [
    "print(students[3].title())"
   ]
  },
  {
   "cell_type": "code",
   "execution_count": null,
   "id": "0dd68436-9986-4246-9c8a-d8a0ce3645b5",
   "metadata": {},
   "outputs": [],
   "source": []
  },
  {
   "cell_type": "code",
   "execution_count": null,
   "id": "aae493d9-4ef4-44b1-920e-e05c15134f60",
   "metadata": {},
   "outputs": [],
   "source": [
    "How to add new elements to the list\n",
    "\n",
    "How to modify elements in the list\n",
    "\n",
    "How to delete the elements in the list"
   ]
  },
  {
   "cell_type": "code",
   "execution_count": 11,
   "id": "7b8a6706-66bb-46f7-a99a-38093404b246",
   "metadata": {},
   "outputs": [
    {
     "name": "stdout",
     "output_type": "stream",
     "text": [
      "['arpita', 'ashwini', 'asma', 'bhuvan', 'david', 'karthik']\n"
     ]
    }
   ],
   "source": [
    "print(students)"
   ]
  },
  {
   "cell_type": "code",
   "execution_count": null,
   "id": "04cafb79-bd0f-4a8a-b0f2-c804d47a35c1",
   "metadata": {},
   "outputs": [],
   "source": [
    "# req: I ant to add venkat to the above list"
   ]
  },
  {
   "cell_type": "code",
   "execution_count": 14,
   "id": "bde3ddfc-19fc-4dec-a36a-13dfa3cb16a5",
   "metadata": {},
   "outputs": [
    {
     "name": "stdout",
     "output_type": "stream",
     "text": [
      "['arpita', 'ashwini', 'asma', 'bhuvan', 'david', 'karthik', 'venkat']\n"
     ]
    }
   ],
   "source": [
    "students.append('venkat')\n",
    "print(students)"
   ]
  },
  {
   "cell_type": "code",
   "execution_count": null,
   "id": "ebcc0f23-8f0b-487f-8fd9-15927f04a7ee",
   "metadata": {},
   "outputs": [],
   "source": [
    "# req: I want to add shafi name in the above list"
   ]
  },
  {
   "cell_type": "code",
   "execution_count": 15,
   "id": "dc721b34-19d6-4d95-b9f1-2d492937693b",
   "metadata": {},
   "outputs": [
    {
     "name": "stdout",
     "output_type": "stream",
     "text": [
      "['arpita', 'ashwini', 'asma', 'bhuvan', 'david', 'karthik', 'venkat', 'shafi']\n"
     ]
    }
   ],
   "source": [
    "students.append('shafi')\n",
    "print(students)"
   ]
  },
  {
   "cell_type": "code",
   "execution_count": null,
   "id": "aad4701d-f653-4fd9-aacf-7f34daa6ed54",
   "metadata": {},
   "outputs": [],
   "source": [
    "# req: I want to add kaleem at the 2nd index position"
   ]
  },
  {
   "cell_type": "code",
   "execution_count": 16,
   "id": "5882182f-a377-45e1-8d09-1867fa54cec5",
   "metadata": {},
   "outputs": [
    {
     "name": "stdout",
     "output_type": "stream",
     "text": [
      "['arpita', 'ashwini', 'kaleem', 'asma', 'bhuvan', 'david', 'karthik', 'venkat', 'shafi']\n"
     ]
    }
   ],
   "source": [
    "students.insert(2,'kaleem')\n",
    "print(students)"
   ]
  },
  {
   "cell_type": "code",
   "execution_count": 17,
   "id": "3c77d1bb-53d6-4491-929b-5c960bbebd05",
   "metadata": {},
   "outputs": [
    {
     "name": "stdout",
     "output_type": "stream",
     "text": [
      "kaleem\n"
     ]
    }
   ],
   "source": [
    "print(students[2])"
   ]
  },
  {
   "cell_type": "code",
   "execution_count": null,
   "id": "eeaf6176-8ed2-4682-8b0b-4e0ed6e9cf6b",
   "metadata": {},
   "outputs": [],
   "source": [
    "Interview_questions: \n",
    "What is the difference between append and insert methods in a list datatype...?"
   ]
  },
  {
   "cell_type": "code",
   "execution_count": 18,
   "id": "21a52a2d-e943-45e3-b1b4-c8920c719f7f",
   "metadata": {},
   "outputs": [
    {
     "name": "stdout",
     "output_type": "stream",
     "text": [
      "['arpita', 'ashwini', 'kaleem', 'asma', 'bhuvan', 'david', 'karthik', 'venkat', 'shafi']\n"
     ]
    }
   ],
   "source": [
    "print(students)"
   ]
  },
  {
   "cell_type": "code",
   "execution_count": null,
   "id": "9259df59-0103-46f5-9091-8dd5e2aeb801",
   "metadata": {},
   "outputs": [],
   "source": [
    "# req: I ant to modify arpita name by anand"
   ]
  },
  {
   "cell_type": "code",
   "execution_count": 19,
   "id": "74caa3a4-59a4-4704-8732-e7c0f6552dc0",
   "metadata": {},
   "outputs": [
    {
     "name": "stdout",
     "output_type": "stream",
     "text": [
      "['anand', 'ashwini', 'kaleem', 'asma', 'bhuvan', 'david', 'karthik', 'venkat', 'shafi']\n"
     ]
    }
   ],
   "source": [
    "students[0]='anand'\n",
    "print(students)"
   ]
  },
  {
   "cell_type": "code",
   "execution_count": null,
   "id": "2dcf7975-3051-4abb-9bdc-c018c8471043",
   "metadata": {},
   "outputs": [],
   "source": [
    "# req: I want to delete ashwini name in the above list...?"
   ]
  },
  {
   "cell_type": "code",
   "execution_count": 39,
   "id": "e85fa485-c136-4990-96b0-1bcc8bfbc17d",
   "metadata": {},
   "outputs": [
    {
     "name": "stdout",
     "output_type": "stream",
     "text": [
      "['arpita', 'asma', 'bhuvan', 'david', 'karthik']\n"
     ]
    }
   ],
   "source": [
    "students = ['arpita','ashwini','asma','bhuvan','david','karthik']\n",
    "del students[1]\n",
    "print(students)"
   ]
  },
  {
   "cell_type": "code",
   "execution_count": null,
   "id": "cc3da808-c1c7-4cc9-9b02-43aae66716b3",
   "metadata": {},
   "outputs": [],
   "source": []
  }
 ],
 "metadata": {
  "kernelspec": {
   "display_name": "anaconda-2024.02-py310",
   "language": "python",
   "name": "conda-env-anaconda-2024.02-py310-py"
  },
  "language_info": {
   "codemirror_mode": {
    "name": "ipython",
    "version": 3
   },
   "file_extension": ".py",
   "mimetype": "text/x-python",
   "name": "python",
   "nbconvert_exporter": "python",
   "pygments_lexer": "ipython3",
   "version": "3.10.14"
  }
 },
 "nbformat": 4,
 "nbformat_minor": 5
}
