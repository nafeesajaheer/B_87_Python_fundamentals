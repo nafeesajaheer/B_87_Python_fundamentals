{
 "cells": [
  {
   "cell_type": "code",
   "execution_count": null,
   "id": "3dfb9348-32ce-461f-9971-347af854071d",
   "metadata": {},
   "outputs": [],
   "source": [
    "Introduction to conditional dtatements:"
   ]
  },
  {
   "cell_type": "code",
   "execution_count": null,
   "id": "ea65505a-b7d5-49fd-a013-aecd80a54141",
   "metadata": {},
   "outputs": [],
   "source": [
    "if statements:"
   ]
  },
  {
   "cell_type": "code",
   "execution_count": 1,
   "id": "8bd22612-123b-44ed-8324-ccb35e2229e8",
   "metadata": {},
   "outputs": [],
   "source": [
    "cars=['audi','bmw','hundai','toyota','kia','suzuki','maruthi']"
   ]
  },
  {
   "cell_type": "code",
   "execution_count": 2,
   "id": "7f3edadf-2d63-4e63-8c9c-c07a5af33ddd",
   "metadata": {},
   "outputs": [
    {
     "name": "stdout",
     "output_type": "stream",
     "text": [
      "['audi', 'bmw', 'hundai', 'toyota', 'kia', 'suzuki', 'maruthi']\n"
     ]
    }
   ],
   "source": [
    "print(cars)"
   ]
  },
  {
   "cell_type": "code",
   "execution_count": 3,
   "id": "2b6283aa-9275-445c-bc8a-11fe36b50a03",
   "metadata": {},
   "outputs": [
    {
     "data": {
      "text/plain": [
       "list"
      ]
     },
     "execution_count": 3,
     "metadata": {},
     "output_type": "execute_result"
    }
   ],
   "source": [
    "type(cars)"
   ]
  },
  {
   "cell_type": "code",
   "execution_count": null,
   "id": "363802ea-576c-4380-8d3c-fdd684cc7ebf",
   "metadata": {},
   "outputs": [],
   "source": [
    "# req: I want to get suzuki in the capitalletters and rest all the cars should be in title case"
   ]
  },
  {
   "cell_type": "code",
   "execution_count": 4,
   "id": "f5bef554-3262-49a5-9703-1a4be275b9f3",
   "metadata": {},
   "outputs": [
    {
     "name": "stdout",
     "output_type": "stream",
     "text": [
      "Audi\n",
      "Bmw\n",
      "Hundai\n",
      "Toyota\n",
      "Kia\n",
      "SUZUKI\n",
      "Maruthi\n"
     ]
    }
   ],
   "source": [
    "for a in cars:\n",
    "    if a=='suzuki':\n",
    "        print(a.upper())\n",
    "    else:\n",
    "        print(a.title())"
   ]
  },
  {
   "cell_type": "code",
   "execution_count": null,
   "id": "a73a91c4-6eea-43ae-8a1b-b123b73e32c8",
   "metadata": {},
   "outputs": [],
   "source": [
    "# req: Building an voting application"
   ]
  },
  {
   "cell_type": "code",
   "execution_count": 6,
   "id": "d27da264-7675-492d-80b6-a051665cae4d",
   "metadata": {},
   "outputs": [
    {
     "data": {
      "text/plain": [
       "int"
      ]
     },
     "execution_count": 6,
     "metadata": {},
     "output_type": "execute_result"
    }
   ],
   "source": [
    "age=17\n",
    "type(age)"
   ]
  },
  {
   "cell_type": "code",
   "execution_count": 7,
   "id": "2de3e009-a5af-4493-aafc-0278b7f7dc16",
   "metadata": {},
   "outputs": [
    {
     "name": "stdout",
     "output_type": "stream",
     "text": [
      "you are not eligible to vote, try next year\n"
     ]
    }
   ],
   "source": [
    "if age>=18:\n",
    "    print(\"you are eligible to vote\")\n",
    "else:\n",
    "    print(\"you are not eligible to vote, try next year\")"
   ]
  },
  {
   "cell_type": "code",
   "execution_count": null,
   "id": "e1b14f02-65f3-476d-8a4a-55327a0c369c",
   "metadata": {},
   "outputs": [],
   "source": []
  },
  {
   "cell_type": "code",
   "execution_count": null,
   "id": "504a7a12-2847-43df-aa37-d8d78fa83e2e",
   "metadata": {},
   "outputs": [],
   "source": [
    "Understanding the concept of user input:"
   ]
  },
  {
   "cell_type": "code",
   "execution_count": 9,
   "id": "bd66ba53-0096-4827-bedd-1fe6e34472fc",
   "metadata": {},
   "outputs": [
    {
     "name": "stdin",
     "output_type": "stream",
     "text": [
      "Tell me something and i will repeat it back for you!! hlo\n"
     ]
    },
    {
     "name": "stdout",
     "output_type": "stream",
     "text": [
      "hlo\n"
     ]
    }
   ],
   "source": [
    "message=input(\"Tell me something and i will repeat it back for you!!\")\n",
    "print(message)"
   ]
  },
  {
   "cell_type": "code",
   "execution_count": null,
   "id": "17ad326f-9b3d-4565-836a-1f305664c217",
   "metadata": {},
   "outputs": [],
   "source": [
    "# I want to greet the user based on the input"
   ]
  },
  {
   "cell_type": "code",
   "execution_count": 10,
   "id": "4c47f225-3682-477f-970a-130207fc750b",
   "metadata": {},
   "outputs": [
    {
     "name": "stdin",
     "output_type": "stream",
     "text": [
      "Please enter your name: nafeesa\n"
     ]
    },
    {
     "name": "stdout",
     "output_type": "stream",
     "text": [
      "\n",
      " Hello,nafeesa!\n"
     ]
    }
   ],
   "source": [
    "name=input(\"Please enter your name:\")\n",
    "print(f\"\\n Hello,{name}!\")"
   ]
  },
  {
   "cell_type": "code",
   "execution_count": 11,
   "id": "808c09b4-e666-4d17-b5c3-696156bcebcc",
   "metadata": {},
   "outputs": [
    {
     "name": "stdin",
     "output_type": "stream",
     "text": [
      "How old are you? 12\n"
     ]
    },
    {
     "ename": "TypeError",
     "evalue": "'>=' not supported between instances of 'str' and 'int'",
     "output_type": "error",
     "traceback": [
      "\u001b[0;31m---------------------------------------------------------------------------\u001b[0m",
      "\u001b[0;31mTypeError\u001b[0m                                 Traceback (most recent call last)",
      "Cell \u001b[0;32mIn[11], line 2\u001b[0m\n\u001b[1;32m      1\u001b[0m age\u001b[38;5;241m=\u001b[39m\u001b[38;5;28minput\u001b[39m(\u001b[38;5;124m\"\u001b[39m\u001b[38;5;124mHow old are you?\u001b[39m\u001b[38;5;124m\"\u001b[39m)\n\u001b[0;32m----> 2\u001b[0m \u001b[38;5;28;01mif\u001b[39;00m \u001b[43mage\u001b[49m\u001b[38;5;241;43m>\u001b[39;49m\u001b[38;5;241;43m=\u001b[39;49m\u001b[38;5;241;43m18\u001b[39;49m:\n\u001b[1;32m      3\u001b[0m     \u001b[38;5;28mprint\u001b[39m(\u001b[38;5;124m\"\u001b[39m\u001b[38;5;124myou are eligible to vote\u001b[39m\u001b[38;5;124m\"\u001b[39m)\n\u001b[1;32m      4\u001b[0m \u001b[38;5;28;01melse\u001b[39;00m:\n",
      "\u001b[0;31mTypeError\u001b[0m: '>=' not supported between instances of 'str' and 'int'"
     ]
    }
   ],
   "source": [
    "age=input(\"How old are you?\")\n",
    "if age>=18:\n",
    "    print(\"you are eligible to vote\")\n",
    "else:\n",
    "    print(\"you are not eligible to vote, try next year\")"
   ]
  },
  {
   "cell_type": "code",
   "execution_count": 12,
   "id": "13ec19d2-e08d-41af-bb3c-4e38f3e397bc",
   "metadata": {},
   "outputs": [
    {
     "name": "stdin",
     "output_type": "stream",
     "text": [
      "How old are you? 1\n"
     ]
    },
    {
     "name": "stdout",
     "output_type": "stream",
     "text": [
      "you are not eligible to vote, try next year\n"
     ]
    }
   ],
   "source": [
    "age=input(\"How old are you?\")\n",
    "age=int(age)\n",
    "if age>=18:\n",
    "    print(\"you are eligible to vote\")\n",
    "else:\n",
    "    print(\"you are not eligible to vote, try next year\")"
   ]
  },
  {
   "cell_type": "code",
   "execution_count": null,
   "id": "4049514c-2cde-4357-8cd1-af6dbe887a90",
   "metadata": {},
   "outputs": [],
   "source": [
    "# req: I want to find weather  its even or odd!"
   ]
  },
  {
   "cell_type": "code",
   "execution_count": 13,
   "id": "a1d98050-9553-4dfc-b1d1-95baf3964c17",
   "metadata": {},
   "outputs": [
    {
     "name": "stdin",
     "output_type": "stream",
     "text": [
      "Enter a number, I will tell you its odd or even!! 12\n"
     ]
    },
    {
     "name": "stdout",
     "output_type": "stream",
     "text": [
      "\n",
      " The number12 is even\n"
     ]
    }
   ],
   "source": [
    "number=input(\"Enter a number, I will tell you its odd or even!!\")\n",
    "number=int(number)\n",
    "if number%2==0:\n",
    "    print(f\"\\n The number{number} is even\")\n",
    "else:\n",
    "    print(f\"\\n The number{number} is odd\")"
   ]
  },
  {
   "cell_type": "code",
   "execution_count": null,
   "id": "a1c73c87-2839-4c53-ae67-46c77ea0ad29",
   "metadata": {},
   "outputs": [],
   "source": []
  }
 ],
 "metadata": {
  "kernelspec": {
   "display_name": "anaconda-2024.02-py310",
   "language": "python",
   "name": "conda-env-anaconda-2024.02-py310-py"
  },
  "language_info": {
   "codemirror_mode": {
    "name": "ipython",
    "version": 3
   },
   "file_extension": ".py",
   "mimetype": "text/x-python",
   "name": "python",
   "nbconvert_exporter": "python",
   "pygments_lexer": "ipython3",
   "version": "3.10.14"
  }
 },
 "nbformat": 4,
 "nbformat_minor": 5
}
