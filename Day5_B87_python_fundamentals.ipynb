{
 "cells": [
  {
   "cell_type": "code",
   "execution_count": null,
   "id": "0a69726a-79ab-476a-a35b-9fb86e057124",
   "metadata": {},
   "outputs": [],
   "source": [
    "Continuation with list datatype:"
   ]
  },
  {
   "cell_type": "code",
   "execution_count": null,
   "id": "bcc07b23-911f-4a69-865a-1d6cf303065f",
   "metadata": {},
   "outputs": [],
   "source": [
    "Organising the list datatype:"
   ]
  },
  {
   "cell_type": "code",
   "execution_count": 1,
   "id": "42668e8d-213a-4857-8778-e3ff50ebcd87",
   "metadata": {},
   "outputs": [
    {
     "name": "stdout",
     "output_type": "stream",
     "text": [
      "['bmw', 'tata', 'suzuki', 'audi', 'toyota', 'benz']\n"
     ]
    }
   ],
   "source": [
    "cars=['bmw','tata','suzuki','audi','toyota','benz']\n",
    "print(cars)"
   ]
  },
  {
   "cell_type": "code",
   "execution_count": 2,
   "id": "856c29e4-c2d5-4a37-930a-f2880e4b5e07",
   "metadata": {},
   "outputs": [
    {
     "data": {
      "text/plain": [
       "list"
      ]
     },
     "execution_count": 2,
     "metadata": {},
     "output_type": "execute_result"
    }
   ],
   "source": [
    "type(cars)"
   ]
  },
  {
   "cell_type": "code",
   "execution_count": null,
   "id": "7803374c-e5cc-4854-9ce7-5aefd8f688ad",
   "metadata": {},
   "outputs": [],
   "source": [
    "# req: I want to organise the list in alphabetical order"
   ]
  },
  {
   "cell_type": "code",
   "execution_count": null,
   "id": "b458599e-c194-4ecc-a8bf-7e70e31448d2",
   "metadata": {},
   "outputs": [],
   "source": [
    "A,B,C,D"
   ]
  },
  {
   "cell_type": "code",
   "execution_count": null,
   "id": "b0429740-bc71-4c36-80e7-cc057faf6db8",
   "metadata": {},
   "outputs": [],
   "source": [
    "There are 2 approaches:\n",
    "1. temporary approach====> sorted method\n",
    "2. permanent approach====> sort method"
   ]
  },
  {
   "cell_type": "code",
   "execution_count": 3,
   "id": "f1a77bd9-d1c3-45d7-931f-003bc5f42c2c",
   "metadata": {},
   "outputs": [
    {
     "name": "stdout",
     "output_type": "stream",
     "text": [
      "['audi', 'benz', 'bmw', 'suzuki', 'tata', 'toyota']\n"
     ]
    }
   ],
   "source": [
    "print(sorted(cars))"
   ]
  },
  {
   "cell_type": "code",
   "execution_count": 4,
   "id": "ccb5f97c-9486-4bc9-b6db-3da218c26560",
   "metadata": {},
   "outputs": [
    {
     "name": "stdout",
     "output_type": "stream",
     "text": [
      "['bmw', 'tata', 'suzuki', 'audi', 'toyota', 'benz']\n"
     ]
    }
   ],
   "source": [
    "print(cars)"
   ]
  },
  {
   "cell_type": "code",
   "execution_count": 5,
   "id": "85651eb0-e2c0-47b8-ba02-e45c173d8d5f",
   "metadata": {},
   "outputs": [
    {
     "name": "stdout",
     "output_type": "stream",
     "text": [
      "['audi', 'benz', 'bmw', 'suzuki', 'tata', 'toyota']\n"
     ]
    }
   ],
   "source": [
    "cars.sort()\n",
    "print(cars)"
   ]
  },
  {
   "cell_type": "code",
   "execution_count": 6,
   "id": "6ef83142-af2c-4f78-93b4-fc95b706d0c0",
   "metadata": {},
   "outputs": [
    {
     "name": "stdout",
     "output_type": "stream",
     "text": [
      "['audi', 'benz', 'bmw', 'suzuki', 'tata', 'toyota']\n"
     ]
    }
   ],
   "source": [
    "print(cars)"
   ]
  },
  {
   "cell_type": "code",
   "execution_count": null,
   "id": "f969fb55-ce5b-42a3-a378-00771172eea8",
   "metadata": {},
   "outputs": [],
   "source": []
  },
  {
   "cell_type": "code",
   "execution_count": null,
   "id": "359a6975-16f6-4ad6-aca7-777efab83104",
   "metadata": {},
   "outputs": [],
   "source": [
    "interview_question: What is the difference between sorted and sort method in the list"
   ]
  },
  {
   "cell_type": "code",
   "execution_count": null,
   "id": "5a6d9ca5-a539-4478-b4f6-286145f5eb7f",
   "metadata": {},
   "outputs": [],
   "source": [
    "# I want to count the number of elements in the list"
   ]
  },
  {
   "cell_type": "code",
   "execution_count": 7,
   "id": "9422bc75-0b7c-4f9f-9398-235125c36f09",
   "metadata": {},
   "outputs": [
    {
     "name": "stdout",
     "output_type": "stream",
     "text": [
      "['toyota', 'tata', 'suzuki', 'bmw', 'benz', 'audi']\n"
     ]
    }
   ],
   "source": [
    "len(cars)\n",
    "cars.reverse()\n",
    "print(cars)"
   ]
  },
  {
   "cell_type": "code",
   "execution_count": null,
   "id": "092b3b7d-2a50-4ff6-b39f-8f35dff9ea63",
   "metadata": {},
   "outputs": [],
   "source": [
    "# is used for commenting the code..."
   ]
  },
  {
   "cell_type": "code",
   "execution_count": null,
   "id": "414c500c-07a1-4320-9576-53c7918752c5",
   "metadata": {},
   "outputs": [],
   "source": []
  },
  {
   "cell_type": "code",
   "execution_count": null,
   "id": "7f2a690e-86a3-4b6a-a359-6a2f9cdbde86",
   "metadata": {},
   "outputs": [],
   "source": [
    "Introduction to slicing:"
   ]
  },
  {
   "cell_type": "code",
   "execution_count": 9,
   "id": "23dca4e0-1e4a-4a95-9115-c9a3929119f8",
   "metadata": {},
   "outputs": [
    {
     "name": "stdout",
     "output_type": "stream",
     "text": [
      "['anika', 'arpita', 'bhushan', 'bhanu', 'chandra', 'cynthya', 'danish']\n"
     ]
    }
   ],
   "source": [
    "students=['anika','arpita','bhushan','bhanu','chandra','cynthya','danish']\n",
    "print(students)"
   ]
  },
  {
   "cell_type": "code",
   "execution_count": null,
   "id": "891be6c7-8e69-4929-b1bf-82caad9156af",
   "metadata": {},
   "outputs": [],
   "source": [
    "# general syntax for slicing "
   ]
  },
  {
   "cell_type": "code",
   "execution_count": null,
   "id": "a8494f84-f1c3-4a21-aef6-f9159f20ca4e",
   "metadata": {},
   "outputs": [],
   "source": [
    "[start_value:stop_value:step_count]"
   ]
  },
  {
   "cell_type": "code",
   "execution_count": null,
   "id": "f47db1a9-a629-403c-a4cb-62c349f66a60",
   "metadata": {},
   "outputs": [],
   "source": [
    "# req: I want to include anika and arpita in the slice"
   ]
  },
  {
   "cell_type": "code",
   "execution_count": 9,
   "id": "4dd2bbb4-dd9a-4ee2-9cd7-b0412b28de0b",
   "metadata": {},
   "outputs": [
    {
     "name": "stdout",
     "output_type": "stream",
     "text": [
      "['anika']\n"
     ]
    }
   ],
   "source": [
    "students=['anika','arpita','bhushan','bhanu','chandra','cynthya','danish']\n",
    "print(students[0:1])"
   ]
  },
  {
   "cell_type": "code",
   "execution_count": 10,
   "id": "6c529c3e-324d-4010-956f-8a57f7d01275",
   "metadata": {},
   "outputs": [
    {
     "name": "stdout",
     "output_type": "stream",
     "text": [
      "['anika', 'arpita']\n"
     ]
    }
   ],
   "source": [
    "print(students[0:2])"
   ]
  },
  {
   "cell_type": "code",
   "execution_count": null,
   "id": "1c28c425-e3b8-4a7b-ba08-8604a478a4a9",
   "metadata": {},
   "outputs": [],
   "source": [
    "# req: bhushan and bhanu"
   ]
  },
  {
   "cell_type": "code",
   "execution_count": 11,
   "id": "1c40936c-940d-4c97-9fff-b877c189646e",
   "metadata": {},
   "outputs": [
    {
     "name": "stdout",
     "output_type": "stream",
     "text": [
      "['bhushan', 'bhanu']\n"
     ]
    }
   ],
   "source": [
    "print(students[2:4])"
   ]
  },
  {
   "cell_type": "code",
   "execution_count": 12,
   "id": "7ded81eb-d0ee-4e42-a0a8-7299a1d69c9f",
   "metadata": {},
   "outputs": [
    {
     "name": "stdout",
     "output_type": "stream",
     "text": [
      "['anika', 'bhushan', 'chandra', 'danish']\n"
     ]
    }
   ],
   "source": [
    "print(students[0:7:2])"
   ]
  },
  {
   "cell_type": "code",
   "execution_count": 13,
   "id": "5105ec15-04a9-46fe-9a12-d1399fa4556d",
   "metadata": {},
   "outputs": [
    {
     "name": "stdout",
     "output_type": "stream",
     "text": [
      "['anika', 'arpita', 'bhushan', 'bhanu', 'chandra', 'cynthya', 'danish']\n"
     ]
    }
   ],
   "source": [
    "print(students)"
   ]
  },
  {
   "cell_type": "code",
   "execution_count": null,
   "id": "bf9759d4-c926-471d-aa68-f175969d5c07",
   "metadata": {},
   "outputs": [],
   "source": []
  }
 ],
 "metadata": {
  "kernelspec": {
   "display_name": "anaconda-2024.02-py310",
   "language": "python",
   "name": "conda-env-anaconda-2024.02-py310-py"
  },
  "language_info": {
   "codemirror_mode": {
    "name": "ipython",
    "version": 3
   },
   "file_extension": ".py",
   "mimetype": "text/x-python",
   "name": "python",
   "nbconvert_exporter": "python",
   "pygments_lexer": "ipython3",
   "version": "3.10.14"
  }
 },
 "nbformat": 4,
 "nbformat_minor": 5
}
