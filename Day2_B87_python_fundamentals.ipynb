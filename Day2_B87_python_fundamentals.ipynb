{
 "cells": [
  {
   "cell_type": "code",
   "execution_count": null,
   "id": "379e46cd-efb5-4a7a-81a9-cc997bfb692a",
   "metadata": {},
   "outputs": [],
   "source": [
    "Rules for declaring the variables"
   ]
  },
  {
   "cell_type": "code",
   "execution_count": null,
   "id": "fc1b9d49-ab89-4f52-8295-820491fed018",
   "metadata": {},
   "outputs": [],
   "source": [
    "Rule 1: No namespaces while declaring the variable"
   ]
  },
  {
   "cell_type": "code",
   "execution_count": 6,
   "id": "dec5eda2-89d5-4f67-8375-5d1e9bfc2a96",
   "metadata": {},
   "outputs": [
    {
     "ename": "SyntaxError",
     "evalue": "invalid syntax (3097568150.py, line 1)",
     "output_type": "error",
     "traceback": [
      "\u001b[0;36m  Cell \u001b[0;32mIn[6], line 1\u001b[0;36m\u001b[0m\n\u001b[0;31m    first name='Nafeesa'\u001b[0m\n\u001b[0m          ^\u001b[0m\n\u001b[0;31mSyntaxError\u001b[0m\u001b[0;31m:\u001b[0m invalid syntax\n"
     ]
    }
   ],
   "source": [
    "first name='Nafeesa'\n",
    "print(fires name)"
   ]
  },
  {
   "cell_type": "code",
   "execution_count": 7,
   "id": "263df8a6-7293-4016-a71d-aead93e61547",
   "metadata": {},
   "outputs": [
    {
     "name": "stdout",
     "output_type": "stream",
     "text": [
      "Nafeesa\n"
     ]
    }
   ],
   "source": [
    "firstname='Nafeesa'\n",
    "print(firstname)"
   ]
  },
  {
   "cell_type": "code",
   "execution_count": null,
   "id": "1c01fc62-dff2-46d0-a7a5-32a62deb7fbf",
   "metadata": {},
   "outputs": [],
   "source": [
    "Rule 2: A variable name should not start with a number"
   ]
  },
  {
   "cell_type": "code",
   "execution_count": 8,
   "id": "deecabbd-d87c-4cb8-8e46-cbe3b191a20b",
   "metadata": {},
   "outputs": [
    {
     "ename": "SyntaxError",
     "evalue": "invalid decimal literal (1811575215.py, line 1)",
     "output_type": "error",
     "traceback": [
      "\u001b[0;36m  Cell \u001b[0;32mIn[8], line 1\u001b[0;36m\u001b[0m\n\u001b[0;31m    1name='Nafeesa'\u001b[0m\n\u001b[0m    ^\u001b[0m\n\u001b[0;31mSyntaxError\u001b[0m\u001b[0;31m:\u001b[0m invalid decimal literal\n"
     ]
    }
   ],
   "source": [
    "1name='Nafeesa'\n",
    "print(1name)"
   ]
  },
  {
   "cell_type": "code",
   "execution_count": 9,
   "id": "94f76dfa-4f98-4ca9-9cbf-7d606dbc47fe",
   "metadata": {},
   "outputs": [
    {
     "name": "stdout",
     "output_type": "stream",
     "text": [
      "Nafeesa\n"
     ]
    }
   ],
   "source": [
    "name1='Nafeesa'\n",
    "print(name1)"
   ]
  },
  {
   "cell_type": "code",
   "execution_count": null,
   "id": "7e0a1cb4-e3e1-4075-bf8a-2ed638e92cb5",
   "metadata": {},
   "outputs": [],
   "source": [
    "Rule 3: A variable name should not contain any special characters"
   ]
  },
  {
   "cell_type": "code",
   "execution_count": 10,
   "id": "c8460fa8-9f46-4f65-9625-766d2d40edf8",
   "metadata": {},
   "outputs": [
    {
     "ename": "SyntaxError",
     "evalue": "invalid syntax (3172043129.py, line 2)",
     "output_type": "error",
     "traceback": [
      "\u001b[0;36m  Cell \u001b[0;32mIn[10], line 2\u001b[0;36m\u001b[0m\n\u001b[0;31m    print(name@)\u001b[0m\n\u001b[0m               ^\u001b[0m\n\u001b[0;31mSyntaxError\u001b[0m\u001b[0;31m:\u001b[0m invalid syntax\n"
     ]
    }
   ],
   "source": [
    "name@='Kaviya'\n",
    "print(name@)"
   ]
  },
  {
   "cell_type": "code",
   "execution_count": null,
   "id": "35583400-fbd9-41da-a6b7-c4292ce770a7",
   "metadata": {},
   "outputs": [],
   "source": [
    "Introduction to data types in python"
   ]
  },
  {
   "cell_type": "code",
   "execution_count": null,
   "id": "e11d093f-cd6c-403d-b4cd-e4510e884a9f",
   "metadata": {},
   "outputs": [],
   "source": [
    "Strings====> str\n",
    "Numbers====>int,float\n",
    "Lists======>list\n",
    "Tuples=====>tuple\n",
    "Dictionaries=====>dict"
   ]
  },
  {
   "cell_type": "code",
   "execution_count": null,
   "id": "2196961e-10bb-408f-8b81-caccfdf6896d",
   "metadata": {},
   "outputs": [],
   "source": [
    "Introduction to string data type"
   ]
  },
  {
   "cell_type": "code",
   "execution_count": null,
   "id": "b7cd5d18-51cb-4534-a460-064db11db524",
   "metadata": {},
   "outputs": [],
   "source": [
    "Definition: A string is a series of characters declared in quotes. \n",
    "Classification: It is classified as immutable datatype"
   ]
  },
  {
   "cell_type": "code",
   "execution_count": null,
   "id": "bed4833f-8a29-4075-a59b-f332a4563de1",
   "metadata": {},
   "outputs": [],
   "source": [
    "How to declare the string datatype\n",
    "2 approaches\n",
    "   single quote\n",
    "   double quote"
   ]
  },
  {
   "cell_type": "code",
   "execution_count": 11,
   "id": "cd977803-3ce5-48be-abd3-335b0513d4eb",
   "metadata": {},
   "outputs": [
    {
     "name": "stdout",
     "output_type": "stream",
     "text": [
      "divya\n"
     ]
    }
   ],
   "source": [
    "name='divya'\n",
    "print(name)"
   ]
  },
  {
   "cell_type": "code",
   "execution_count": 12,
   "id": "d0109a41-4a88-42b2-a09f-75888a961e50",
   "metadata": {},
   "outputs": [
    {
     "name": "stdout",
     "output_type": "stream",
     "text": [
      "divya\n"
     ]
    }
   ],
   "source": [
    "name2=\"divya\"\n",
    "print(name2)"
   ]
  },
  {
   "cell_type": "code",
   "execution_count": null,
   "id": "87d34b1f-19a4-4b87-be42-4b4dbedd86a0",
   "metadata": {},
   "outputs": [],
   "source": [
    "Introduction to string methods"
   ]
  },
  {
   "cell_type": "code",
   "execution_count": 13,
   "id": "d13fb21e-69a1-4c0a-9da7-513b218224a6",
   "metadata": {},
   "outputs": [
    {
     "data": {
      "text/plain": [
       "str"
      ]
     },
     "execution_count": 13,
     "metadata": {},
     "output_type": "execute_result"
    }
   ],
   "source": [
    "type(name)"
   ]
  },
  {
   "cell_type": "code",
   "execution_count": 14,
   "id": "b60f7693-f68c-4c01-a107-80119ac54a37",
   "metadata": {},
   "outputs": [
    {
     "data": {
      "text/plain": [
       "str"
      ]
     },
     "execution_count": 14,
     "metadata": {},
     "output_type": "execute_result"
    }
   ],
   "source": [
    "type(name2)"
   ]
  },
  {
   "cell_type": "code",
   "execution_count": 15,
   "id": "5fc853ae-a409-4e07-a392-0f13e93750b6",
   "metadata": {},
   "outputs": [
    {
     "name": "stdout",
     "output_type": "stream",
     "text": [
      "nafeesa begum\n"
     ]
    }
   ],
   "source": [
    "fullname='nafeesa begum'\n",
    "print(fullname)"
   ]
  },
  {
   "cell_type": "code",
   "execution_count": null,
   "id": "5d566904-d394-4543-af5e-79ec07c0bcd7",
   "metadata": {},
   "outputs": [],
   "source": [
    "# req:to correct the format"
   ]
  },
  {
   "cell_type": "code",
   "execution_count": 16,
   "id": "ccac3311-a130-46b8-bcd8-dbbbedf84d0d",
   "metadata": {},
   "outputs": [
    {
     "name": "stdout",
     "output_type": "stream",
     "text": [
      "Nafeesa Begum\n"
     ]
    }
   ],
   "source": [
    "print(fullname.title())"
   ]
  },
  {
   "cell_type": "code",
   "execution_count": null,
   "id": "0f1cbc34-e5e9-438b-8587-4ae2b6f299fd",
   "metadata": {},
   "outputs": [],
   "source": [
    "# req: I want the entire name in uppercase"
   ]
  },
  {
   "cell_type": "code",
   "execution_count": 17,
   "id": "a9653a87-b0ef-48ea-b7a7-5e8afaf8cd9e",
   "metadata": {},
   "outputs": [
    {
     "name": "stdout",
     "output_type": "stream",
     "text": [
      "NAFEESA BEGUM\n"
     ]
    }
   ],
   "source": [
    "print(fullname.upper())"
   ]
  },
  {
   "cell_type": "code",
   "execution_count": null,
   "id": "608006c7-5c12-49a7-a1c6-082975b311e0",
   "metadata": {},
   "outputs": [],
   "source": [
    "# req: I want the entire name in smallcase letters"
   ]
  },
  {
   "cell_type": "code",
   "execution_count": 18,
   "id": "2ab05dcc-bf1d-4454-bdae-17afd82a1e1f",
   "metadata": {},
   "outputs": [
    {
     "name": "stdout",
     "output_type": "stream",
     "text": [
      "nafeesa begum\n"
     ]
    }
   ],
   "source": [
    "print(fullname.lower())"
   ]
  },
  {
   "cell_type": "code",
   "execution_count": null,
   "id": "fab8c431-0b30-4bf8-96c4-556cf862ce30",
   "metadata": {},
   "outputs": [],
   "source": []
  }
 ],
 "metadata": {
  "kernelspec": {
   "display_name": "anaconda-2024.02-py310",
   "language": "python",
   "name": "conda-env-anaconda-2024.02-py310-py"
  },
  "language_info": {
   "codemirror_mode": {
    "name": "ipython",
    "version": 3
   },
   "file_extension": ".py",
   "mimetype": "text/x-python",
   "name": "python",
   "nbconvert_exporter": "python",
   "pygments_lexer": "ipython3",
   "version": "3.10.14"
  }
 },
 "nbformat": 4,
 "nbformat_minor": 5
}
