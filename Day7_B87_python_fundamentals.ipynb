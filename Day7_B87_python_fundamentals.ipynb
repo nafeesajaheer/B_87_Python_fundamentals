{
 "cells": [
  {
   "cell_type": "code",
   "execution_count": null,
   "id": "3e9bb5c3-9d71-41d4-b3ee-5bdf270696b8",
   "metadata": {},
   "outputs": [],
   "source": [
    "Continuation of looping statements:"
   ]
  },
  {
   "cell_type": "code",
   "execution_count": 1,
   "id": "ac07a80e-b7f5-4ac5-953e-5290c820da94",
   "metadata": {},
   "outputs": [
    {
     "name": "stdout",
     "output_type": "stream",
     "text": [
      "['akshay', 'bhavana', 'chandra', 'dinesh', 'ehsan']\n"
     ]
    }
   ],
   "source": [
    "students=['akshay','bhavana','chandra','dinesh','ehsan']\n",
    "print(students)"
   ]
  },
  {
   "cell_type": "code",
   "execution_count": null,
   "id": "e834d392-1e5d-4a9f-b98a-6b4170e069ec",
   "metadata": {},
   "outputs": [],
   "source": [
    "# req: I want to appreciate the above students for submitting the work on the daily basis"
   ]
  },
  {
   "cell_type": "code",
   "execution_count": 5,
   "id": "65a557b3-5e06-4997-a47a-e4b0b67113c5",
   "metadata": {},
   "outputs": [
    {
     "name": "stdout",
     "output_type": "stream",
     "text": [
      "Keep up the good work,Akshay\n",
      "Keep up the good work,Bhavana\n",
      "Keep up the good work,Chandra\n",
      "Keep up the good work,Dinesh\n",
      "Keep up the good work,Ehsan\n"
     ]
    }
   ],
   "source": [
    "for a in students:\n",
    "    print(f\"Keep up the good work,{a.title()}\")"
   ]
  },
  {
   "cell_type": "code",
   "execution_count": 9,
   "id": "4c34b80e-7685-47e7-ae05-cfd2d157b090",
   "metadata": {},
   "outputs": [
    {
     "name": "stdout",
     "output_type": "stream",
     "text": [
      "Keep up the good work,Akshay\n",
      "I am waiting to receive your submission of today,Akshay\n",
      "\n",
      "Keep up the good work,Bhavana\n",
      "I am waiting to receive your submission of today,Bhavana\n",
      "\n",
      "Keep up the good work,Chandra\n",
      "I am waiting to receive your submission of today,Chandra\n",
      "\n",
      "Keep up the good work,Dinesh\n",
      "I am waiting to receive your submission of today,Dinesh\n",
      "\n",
      "Keep up the good work,Ehsan\n",
      "I am waiting to receive your submission of today,Ehsan\n",
      "\n"
     ]
    }
   ],
   "source": [
    "for a in students:\n",
    "    print(f\"Keep up the good work,{a.title()}\")\n",
    "    print(f\"I am waiting to receive your submission of today,{a.title()}\\n\")"
   ]
  },
  {
   "cell_type": "code",
   "execution_count": 11,
   "id": "13006b19-5628-4e41-90ab-bcdcd50eadba",
   "metadata": {},
   "outputs": [
    {
     "name": "stdout",
     "output_type": "stream",
     "text": [
      "Keep up the good work,Akshay\n",
      "I am waiting to receive your submission of today,Akshay\n",
      "\n",
      "Keep up the good work,Bhavana\n",
      "I am waiting to receive your submission of today,Bhavana\n",
      "\n",
      "Keep up the good work,Chandra\n",
      "I am waiting to receive your submission of today,Chandra\n",
      "\n",
      "Keep up the good work,Dinesh\n",
      "I am waiting to receive your submission of today,Dinesh\n",
      "\n",
      "Keep up the good work,Ehsan\n",
      "I am waiting to receive your submission of today,Ehsan\n",
      "\n",
      "Thank you all for attending the python training sessions\n"
     ]
    }
   ],
   "source": [
    "for a in students:\n",
    "    print(f\"Keep up the good work,{a.title()}\")\n",
    "    print(f\"I am waiting to receive your submission of today,{a.title()}\\n\")\n",
    "print(\"Thank you all for attending the python training sessions\")"
   ]
  },
  {
   "cell_type": "code",
   "execution_count": null,
   "id": "34c1796d-318c-47fd-8af3-b2bc557df24b",
   "metadata": {},
   "outputs": [],
   "source": []
  }
 ],
 "metadata": {
  "kernelspec": {
   "display_name": "anaconda-2024.02-py310",
   "language": "python",
   "name": "conda-env-anaconda-2024.02-py310-py"
  },
  "language_info": {
   "codemirror_mode": {
    "name": "ipython",
    "version": 3
   },
   "file_extension": ".py",
   "mimetype": "text/x-python",
   "name": "python",
   "nbconvert_exporter": "python",
   "pygments_lexer": "ipython3",
   "version": "3.10.14"
  }
 },
 "nbformat": 4,
 "nbformat_minor": 5
}
