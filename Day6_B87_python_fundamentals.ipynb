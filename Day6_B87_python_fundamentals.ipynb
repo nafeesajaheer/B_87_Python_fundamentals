{
 "cells": [
  {
   "cell_type": "code",
   "execution_count": null,
   "id": "9605cf7f-c5a8-4ea5-9f42-452858ba0593",
   "metadata": {},
   "outputs": [],
   "source": [
    "Introduction to dictionaries:"
   ]
  },
  {
   "cell_type": "code",
   "execution_count": null,
   "id": "54116d69-bcae-4980-84c6-2496cbb31b12",
   "metadata": {},
   "outputs": [],
   "source": [
    "Defn: A dictionary is a combination of key, value pairs.\n",
    "Classification: It is classified as mutable datatype.\n",
    "How to define the dictionary : {}  # curly brackets/flower brackets"
   ]
  },
  {
   "cell_type": "code",
   "execution_count": null,
   "id": "35ae09e1-c0f4-416b-b221-e121093879a8",
   "metadata": {},
   "outputs": [],
   "source": [
    "# req: I want to design a alien game."
   ]
  },
  {
   "cell_type": "code",
   "execution_count": 1,
   "id": "5fb4f931-2d89-40f0-8ebe-43f5346f0a46",
   "metadata": {},
   "outputs": [
    {
     "name": "stdout",
     "output_type": "stream",
     "text": [
      "{'color': 'green', 'points': 5}\n"
     ]
    }
   ],
   "source": [
    "alien= {'color':'green','points':5}\n",
    "print(alien)"
   ]
  },
  {
   "cell_type": "code",
   "execution_count": 2,
   "id": "b924b736-beff-4a4c-a130-3c6c3b60c9e4",
   "metadata": {},
   "outputs": [
    {
     "data": {
      "text/plain": [
       "dict"
      ]
     },
     "execution_count": 2,
     "metadata": {},
     "output_type": "execute_result"
    }
   ],
   "source": [
    "type(alien)"
   ]
  },
  {
   "cell_type": "code",
   "execution_count": null,
   "id": "57628fe0-8cfe-4bf7-909b-fa9beccbf20a",
   "metadata": {},
   "outputs": [],
   "source": [
    "# dictionary is written as dict"
   ]
  },
  {
   "cell_type": "code",
   "execution_count": null,
   "id": "c663e378-d30d-4d63-b0a7-d6822352822b",
   "metadata": {},
   "outputs": [],
   "source": [
    "# req: I want to add the start_position of the alien"
   ]
  },
  {
   "cell_type": "code",
   "execution_count": 4,
   "id": "7407bc67-17cb-404d-ba04-fc35f4866d6c",
   "metadata": {},
   "outputs": [
    {
     "name": "stdout",
     "output_type": "stream",
     "text": [
      "{'color': 'green', 'points': 5, 'start_position': 'level'}\n"
     ]
    }
   ],
   "source": [
    "alien[\"start_position\"]=\"level\"\n",
    "print(alien)"
   ]
  },
  {
   "cell_type": "code",
   "execution_count": null,
   "id": "a140504c-9f04-471a-9aa1-89571ac23ea0",
   "metadata": {},
   "outputs": [],
   "source": [
    "Note: In dictionary keys will be acting as indexes"
   ]
  },
  {
   "cell_type": "code",
   "execution_count": null,
   "id": "ec2160af-eb54-4240-9ed3-bf2c8163aa24",
   "metadata": {},
   "outputs": [],
   "source": [
    "# req: I want ti know the coloe of the alien..."
   ]
  },
  {
   "cell_type": "code",
   "execution_count": 5,
   "id": "fbe5e48f-7b3f-478f-9786-eded67ff6633",
   "metadata": {},
   "outputs": [
    {
     "ename": "KeyError",
     "evalue": "0",
     "output_type": "error",
     "traceback": [
      "\u001b[0;31m---------------------------------------------------------------------------\u001b[0m",
      "\u001b[0;31mKeyError\u001b[0m                                  Traceback (most recent call last)",
      "Cell \u001b[0;32mIn[5], line 1\u001b[0m\n\u001b[0;32m----> 1\u001b[0m \u001b[38;5;28mprint\u001b[39m(\u001b[43malien\u001b[49m\u001b[43m[\u001b[49m\u001b[38;5;241;43m0\u001b[39;49m\u001b[43m]\u001b[49m)\n",
      "\u001b[0;31mKeyError\u001b[0m: 0"
     ]
    }
   ],
   "source": [
    "print(alien[0])"
   ]
  },
  {
   "cell_type": "code",
   "execution_count": 6,
   "id": "9eb0f229-dac8-4f52-b38a-592e53ef29e5",
   "metadata": {},
   "outputs": [
    {
     "name": "stdout",
     "output_type": "stream",
     "text": [
      "green\n"
     ]
    }
   ],
   "source": [
    "print(alien['color'])      # give the key and get the value"
   ]
  },
  {
   "cell_type": "code",
   "execution_count": null,
   "id": "ece515c8-32b2-4f06-8666-647b3a1c18c6",
   "metadata": {},
   "outputs": [],
   "source": [
    "# req: How to modify the key value pairs in the dictionary... "
   ]
  },
  {
   "cell_type": "code",
   "execution_count": null,
   "id": "d52e4ff6-8a05-4c31-9352-6a22797c3e05",
   "metadata": {},
   "outputs": [],
   "source": [
    "# req: I want to modify the color of the alien from green to red..."
   ]
  },
  {
   "cell_type": "code",
   "execution_count": 7,
   "id": "c38cebd6-01b3-44a5-96b7-38877da70410",
   "metadata": {},
   "outputs": [
    {
     "name": "stdout",
     "output_type": "stream",
     "text": [
      "{'color': 'red', 'points': 5, 'start_position': 'level'}\n"
     ]
    }
   ],
   "source": [
    "alien['color']='red'\n",
    "print(alien)"
   ]
  },
  {
   "cell_type": "code",
   "execution_count": null,
   "id": "4287bb2f-6cb2-4f39-952a-792ecc90de61",
   "metadata": {},
   "outputs": [],
   "source": [
    "# req: I want to create the facebook user account"
   ]
  },
  {
   "cell_type": "code",
   "execution_count": 8,
   "id": "b859be69-3a64-4415-bee8-d5deb0b377c7",
   "metadata": {},
   "outputs": [
    {
     "name": "stdout",
     "output_type": "stream",
     "text": [
      "{'firstname': 'code', 'lastname': 'training', 'username': 'coderaining Academy', 'dob': '01-01-2020', 'pwd': '54321'}\n"
     ]
    }
   ],
   "source": [
    "user_account={'firstname':'code','lastname':'training','username':'coderaining Academy','dob':'01-01-2020','pwd':'54321'}\n",
    "print(user_account)"
   ]
  },
  {
   "cell_type": "code",
   "execution_count": null,
   "id": "2b16000c-34e2-4738-b948-9f0c6f688cac",
   "metadata": {},
   "outputs": [],
   "source": []
  },
  {
   "cell_type": "code",
   "execution_count": null,
   "id": "560c1ebb-e172-4c1f-8f91-532793936513",
   "metadata": {},
   "outputs": [],
   "source": [
    "# req: How to delete the key value pairs."
   ]
  },
  {
   "cell_type": "code",
   "execution_count": null,
   "id": "c9ac4be9-163e-4740-acd3-9a37c7675c82",
   "metadata": {},
   "outputs": [],
   "source": [
    "# req: I want to delete the lastname"
   ]
  },
  {
   "cell_type": "code",
   "execution_count": 10,
   "id": "631618c1-785b-42c6-8b81-13b4ad68cc22",
   "metadata": {},
   "outputs": [
    {
     "name": "stdout",
     "output_type": "stream",
     "text": [
      "{'firstname': 'code', 'username': 'coderaining Academy', 'dob': '01-01-2020', 'pwd': '54321'}\n"
     ]
    }
   ],
   "source": [
    "del user_account['lastname']\n",
    "print(user_account)"
   ]
  },
  {
   "cell_type": "code",
   "execution_count": null,
   "id": "51f49a41-82c0-41f0-ab0e-25a76c237296",
   "metadata": {},
   "outputs": [],
   "source": []
  },
  {
   "cell_type": "code",
   "execution_count": null,
   "id": "ac54fd4d-74b9-4f1f-ba60-b9beec7ebc35",
   "metadata": {},
   "outputs": [],
   "source": [
    "Introduction to looping statements:"
   ]
  },
  {
   "cell_type": "code",
   "execution_count": 11,
   "id": "cd458b8c-7daf-48ab-b4a6-2860caf49279",
   "metadata": {},
   "outputs": [
    {
     "name": "stdout",
     "output_type": "stream",
     "text": [
      " Keep up the good work,Durga\n"
     ]
    }
   ],
   "source": [
    "students=['durga','dinesh','kaviya','noor','raza','abid','joseph']\n",
    "print(f\" Keep up the good work,{students[0].title()}\")"
   ]
  },
  {
   "cell_type": "code",
   "execution_count": 12,
   "id": "f7cb2def-cbde-4892-a2ff-17dc37f14594",
   "metadata": {},
   "outputs": [
    {
     "name": "stdout",
     "output_type": "stream",
     "text": [
      " Keep up the good work,Dinesh\n"
     ]
    }
   ],
   "source": [
    "print(f\" Keep up the good work,{students[1].title()}\")"
   ]
  },
  {
   "cell_type": "code",
   "execution_count": 13,
   "id": "b5ce9f2f-9139-419a-813b-c7175144c4e7",
   "metadata": {},
   "outputs": [
    {
     "name": "stdout",
     "output_type": "stream",
     "text": [
      " Keep up the good work,Kaviya\n"
     ]
    }
   ],
   "source": [
    "print(f\" Keep up the good work,{students[2].title()}\")"
   ]
  },
  {
   "cell_type": "code",
   "execution_count": null,
   "id": "f0f28d8a-ea31-4e88-bfee-8ae764ddce67",
   "metadata": {},
   "outputs": [],
   "source": [
    "# general syntax of for loop:\n",
    "\n",
    "for tempvar in mainvar:\n",
    "    print(tempvar)"
   ]
  },
  {
   "cell_type": "code",
   "execution_count": 14,
   "id": "fff04fd2-5ca6-4338-aa81-682cda22bd21",
   "metadata": {},
   "outputs": [
    {
     "name": "stdout",
     "output_type": "stream",
     "text": [
      " Keep up the good work,Durga\n",
      " Keep up the good work,Dinesh\n",
      " Keep up the good work,Kaviya\n",
      " Keep up the good work,Noor\n",
      " Keep up the good work,Raza\n",
      " Keep up the good work,Abid\n",
      " Keep up the good work,Joseph\n"
     ]
    }
   ],
   "source": [
    "for x in students:\n",
    "    print(f\" Keep up the good work,{x.title()}\")"
   ]
  },
  {
   "cell_type": "code",
   "execution_count": 15,
   "id": "fb0a292e-76b1-4070-8b15-64fe9979f1b2",
   "metadata": {},
   "outputs": [
    {
     "name": "stdout",
     "output_type": "stream",
     "text": [
      "durga\n",
      "dinesh\n",
      "kaviya\n",
      "noor\n",
      "raza\n",
      "abid\n",
      "joseph\n"
     ]
    }
   ],
   "source": [
    "for a in students:\n",
    "    print(a)"
   ]
  },
  {
   "cell_type": "code",
   "execution_count": null,
   "id": "05007991-2b3e-4b94-9d9a-88ece013b895",
   "metadata": {},
   "outputs": [],
   "source": []
  }
 ],
 "metadata": {
  "kernelspec": {
   "display_name": "anaconda-2024.02-py310",
   "language": "python",
   "name": "conda-env-anaconda-2024.02-py310-py"
  },
  "language_info": {
   "codemirror_mode": {
    "name": "ipython",
    "version": 3
   },
   "file_extension": ".py",
   "mimetype": "text/x-python",
   "name": "python",
   "nbconvert_exporter": "python",
   "pygments_lexer": "ipython3",
   "version": "3.10.14"
  }
 },
 "nbformat": 4,
 "nbformat_minor": 5
}
